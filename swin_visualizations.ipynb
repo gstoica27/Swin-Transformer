{
 "cells": [
  {
   "cell_type": "code",
   "execution_count": 1,
   "id": "911a2745",
   "metadata": {},
   "outputs": [],
   "source": [
    "import pdb\n",
    "import os\n",
    "from pickletools import optimize\n",
    "from shutil import SpecialFileError\n",
    "import time\n",
    "import random\n",
    "import argparse\n",
    "import datetime\n",
    "import numpy as np\n",
    "\n",
    "import torch\n",
    "import torch.backends.cudnn as cudnn\n",
    "import torch.distributed as dist\n",
    "\n",
    "from timm.loss import LabelSmoothingCrossEntropy, SoftTargetCrossEntropy\n",
    "from timm.utils import accuracy, AverageMeter\n",
    "\n",
    "from config import get_config\n",
    "from models import build_model\n",
    "from data import build_loader\n",
    "from lr_scheduler import build_scheduler\n",
    "from optimizer import build_optimizer\n",
    "from logger import create_logger\n",
    "from utils import load_checkpoint, load_pretrained, save_checkpoint, get_grad_norm, auto_resume_helper, reduce_tensor"
   ]
  },
  {
   "cell_type": "code",
   "execution_count": 2,
   "id": "1061ac36",
   "metadata": {},
   "outputs": [],
   "source": [
    "import matplotlib.pyplot as plt"
   ]
  },
  {
   "cell_type": "code",
   "execution_count": 3,
   "id": "8be6e560",
   "metadata": {},
   "outputs": [],
   "source": [
    "def parse_option(config_path, output_path, tag):\n",
    "    parser = argparse.ArgumentParser('Swin Transformer training and evaluation script', add_help=False)\n",
    "    parser.add_argument('--cfg', type=str, metavar=\"FILE\", help='path to config file', \n",
    "                        default=config_path)\n",
    "    parser.add_argument(\n",
    "        \"--opts\",\n",
    "        help=\"Modify config options by adding 'KEY VALUE' pairs. \",\n",
    "        default=None,\n",
    "        nargs='+',\n",
    "    )\n",
    "\n",
    "    # easy config modification\n",
    "    parser.add_argument('--batch-size', type=int, help=\"batch size for single GPU\")\n",
    "    parser.add_argument('--data-path', type=str, help='path to dataset', default=1)\n",
    "    parser.add_argument('--zip', action='store_true', help='use zipped dataset instead of folder dataset')\n",
    "    parser.add_argument('--cache-mode', type=str, default='part', choices=['no', 'full', 'part'],\n",
    "                        help='no: no cache, '\n",
    "                             'full: cache all data, '\n",
    "                             'part: sharding the dataset into nonoverlapping pieces and only cache one piece')\n",
    "    parser.add_argument('--pretrained',\n",
    "                        help='pretrained weight from checkpoint, could be imagenet22k pretrained weight')\n",
    "    parser.add_argument('--resume', help='resume from checkpoint')\n",
    "    parser.add_argument('--accumulation-steps', type=int, help=\"gradient accumulation steps\")\n",
    "    parser.add_argument('--use-checkpoint', action='store_true',\n",
    "                        help=\"whether to use gradient checkpointing to save memory\")\n",
    "    parser.add_argument('--amp-opt-level', type=str, default='O0', choices=['O0', 'O1', 'O2'],\n",
    "                        help='mixed precision opt level, if O0, no amp is used')\n",
    "    parser.add_argument('--output', default=output_path, type=str, metavar='PATH',\n",
    "                        help='root of output folder, the full path is <output>/<model_name>/<tag> (default: output)')\n",
    "    parser.add_argument('--tag', help='tag of experiment', default=tag)\n",
    "    parser.add_argument('--eval', action='store_true', help='Perform evaluation only')\n",
    "    parser.add_argument('--throughput', action='store_true', help='Test throughput only')\n",
    "\n",
    "    # distributed training\n",
    "    parser.add_argument(\n",
    "        \"--local_rank\", type=int, help='local rank for DistributedDataParallel', default=0\n",
    "    )\n",
    "\n",
    "    args, unparsed = parser.parse_known_args()\n",
    "\n",
    "    config = get_config(args)\n",
    "\n",
    "    return args, config\n",
    "\n",
    "def build_val_loader(config):\n",
    "    from data.build import build_dataset\n",
    "    from timm.data import Mixup\n",
    "    config.defrost()\n",
    "    dataset_train, config.MODEL.NUM_CLASSES = build_dataset(is_train=True, config=config)\n",
    "    config.freeze()\n",
    "    dataset_val, _ = build_dataset(is_train=False, config=config)\n",
    "\n",
    "    \n",
    "\n",
    "    sampler_val = torch.utils.data.SequentialSampler(dataset_val)\n",
    "\n",
    "    data_loader_val = torch.utils.data.DataLoader(\n",
    "        dataset_val, sampler=sampler_val,\n",
    "        batch_size=config.DATA.BATCH_SIZE,\n",
    "        shuffle=False,\n",
    "        num_workers=config.DATA.NUM_WORKERS,\n",
    "        pin_memory=config.DATA.PIN_MEMORY,\n",
    "        drop_last=False\n",
    "    )\n",
    "\n",
    "    # setup mixup / cutmix\n",
    "    mixup_fn = None\n",
    "    mixup_active = config.AUG.MIXUP > 0 or config.AUG.CUTMIX > 0. or config.AUG.CUTMIX_MINMAX is not None\n",
    "    if mixup_active:\n",
    "        mixup_fn = Mixup(\n",
    "            mixup_alpha=config.AUG.MIXUP, cutmix_alpha=config.AUG.CUTMIX, cutmix_minmax=config.AUG.CUTMIX_MINMAX,\n",
    "            prob=config.AUG.MIXUP_PROB, switch_prob=config.AUG.MIXUP_SWITCH_PROB, mode=config.AUG.MIXUP_MODE,\n",
    "            label_smoothing=config.MODEL.LABEL_SMOOTHING, num_classes=config.MODEL.NUM_CLASSES)\n",
    "\n",
    "    return dataset_val, data_loader_val, mixup_fn\n",
    "\n",
    "@torch.no_grad()\n",
    "def validate(config, data_loader, model, accumulation_steps=1):\n",
    "    criterion = torch.nn.CrossEntropyLoss()\n",
    "    model.eval()\n",
    "\n",
    "    batch_time = AverageMeter()\n",
    "    loss_meter = AverageMeter()\n",
    "    acc1_meter = AverageMeter()\n",
    "    acc5_meter = AverageMeter()\n",
    "\n",
    "    end = time.time()\n",
    "    for idx, (images, target) in enumerate(data_loader):\n",
    "        formatted_images = images.cuda(non_blocking=True).unsqueeze(0)\n",
    "        formatted_target = target.cuda(non_blocking=True).unsqueeze(0)\n",
    "        \n",
    "        A, B, C, H, W = formatted_images.shape\n",
    "        A, B = formatted_target.shape\n",
    "        if B // accumulation_steps == 0:\n",
    "            zero_idx = 1\n",
    "            ones_idx = B\n",
    "        else:\n",
    "            zero_idx = accumulation_steps\n",
    "            ones_idx = B // accumulation_steps\n",
    "        formatted_images = formatted_images.reshape(zero_idx, ones_idx, C, H, W)\n",
    "        formatted_target = formatted_target.reshape(zero_idx, ones_idx)\n",
    "        \n",
    "        for accumulation_step in range(accumulation_steps):\n",
    "            images = formatted_images[accumulation_step]\n",
    "            target = formatted_target[accumulation_step]\n",
    "        \n",
    "            # compute output\n",
    "            output = model(images, use_amp=False)\n",
    "\n",
    "            # measure accuracy and record loss\n",
    "            loss = criterion(output, target)\n",
    "            acc1, acc5 = accuracy(output, target, topk=(1, 5))\n",
    "\n",
    "    #         acc1 = acc1\n",
    "    #         acc5 = reduce_tensor(acc5)\n",
    "    #         loss = reduce_tensor(loss)\n",
    "\n",
    "            loss_meter.update(loss.item(), target.size(0))\n",
    "            acc1_meter.update(acc1.item(), target.size(0))\n",
    "            acc5_meter.update(acc5.item(), target.size(0))\n",
    "\n",
    "            # measure elapsed time\n",
    "            batch_time.update(time.time() - end)\n",
    "            end = time.time()\n",
    "\n",
    "            if idx % config.PRINT_FREQ == 0:\n",
    "                memory_used = torch.cuda.max_memory_allocated() / (1024.0 * 1024.0)\n",
    "                print(\n",
    "                    f'Test: [{idx}/{len(data_loader)}]\\t'\n",
    "                    f'Time {batch_time.val:.3f} ({batch_time.avg:.3f})\\t'\n",
    "                    f'Loss {loss_meter.val:.4f} ({loss_meter.avg:.4f})\\t'\n",
    "                    f'Acc@1 {acc1_meter.val:.3f} ({acc1_meter.avg:.3f})\\t'\n",
    "                    f'Acc@5 {acc5_meter.val:.3f} ({acc5_meter.avg:.3f})\\t'\n",
    "                    f'Mem {memory_used:.0f}MB')\n",
    "            images = images.cpu()\n",
    "            target = target.cpu()\n",
    "    print(f' * Acc@1 {acc1_meter.avg:.3f} Acc@5 {acc5_meter.avg:.3f}')\n",
    "    return acc1_meter.avg, acc5_meter.avg, loss_meter.avg"
   ]
  },
  {
   "cell_type": "markdown",
   "id": "9ac43f24",
   "metadata": {},
   "source": [
    "# Swin Transformer Baseline"
   ]
  },
  {
   "cell_type": "code",
   "execution_count": 3,
   "id": "f0508e74",
   "metadata": {},
   "outputs": [
    {
     "name": "stdout",
     "output_type": "stream",
     "text": [
      "=> merge config from configs/swin_tiny_patch4_window7_224_cifar100.yaml\n"
     ]
    }
   ],
   "source": [
    "config_path = 'configs/swin_tiny_patch4_window7_224_cifar100.yaml'\n",
    "output_path = '/srv/share4/gstoica3/checkpoints/swin_transformer_cifar'\n",
    "tag = 'baseline_fp32'\n",
    "_, config = parse_option(config_path, output_path, tag)"
   ]
  },
  {
   "cell_type": "code",
   "execution_count": 4,
   "id": "49fb551a",
   "metadata": {},
   "outputs": [
    {
     "data": {
      "text/plain": [
       "CfgNode({'BASE': [''], 'DATA': CfgNode({'BATCH_SIZE': 128, 'DATA_PATH': 1, 'DATASET': 'cifar100', 'IMG_SIZE': 224, 'INTERPOLATION': 'bicubic', 'ZIP_MODE': False, 'CACHE_MODE': 'part', 'PIN_MEMORY': True, 'NUM_WORKERS': 8}), 'MODEL': CfgNode({'TYPE': 'swin', 'NAME': 'swin_tiny_patch4_window7_224_cifar100', 'PRETRAINED': '', 'RESUME': '', 'NUM_CLASSES': 1000, 'DROP_RATE': 0.0, 'DROP_PATH_RATE': 0.2, 'LABEL_SMOOTHING': 0.1, 'SWIN': CfgNode({'PATCH_SIZE': 4, 'IN_CHANS': 3, 'EMBED_DIM': 96, 'DEPTHS': [2, 2, 6, 2], 'NUM_HEADS': [3, 6, 12, 24], 'WINDOW_SIZE': 7, 'MLP_RATIO': 4.0, 'QKV_BIAS': True, 'QK_SCALE': None, 'APE': False, 'PATCH_NORM': True, 'SUMMARY_TYPE': 'none', 'SUMMARY_LAYERS': []}), 'SWIN_MLP': CfgNode({'PATCH_SIZE': 4, 'IN_CHANS': 3, 'EMBED_DIM': 96, 'DEPTHS': [2, 2, 6, 2], 'NUM_HEADS': [3, 6, 12, 24], 'WINDOW_SIZE': 7, 'MLP_RATIO': 4.0, 'APE': False, 'PATCH_NORM': True}), 'CSAM': CfgNode({'APPROACH_NAME': 'Three_unmasked', 'POS_EMB_DIM': 0, 'SOFTMAX_TEMP': 1, 'PADDING': 'same', 'STRIDE': 1, 'APPLY_STOCHASTIC_STRIDE': False, 'USE_RESIDUAL_CONNECTION': False, 'SUFFIX': '', 'VALUE_DIM': -1, 'RANDOM_K': -1, 'FORGET_GATE_NONLINEARITY': 'sigmoid', 'SIMILARITY_METRIC': 'cosine_similarity', 'INJECTION_LOCATIONS': [0], 'OUTPUT_SCALAR': 2.0})}), 'TRAIN': CfgNode({'START_EPOCH': 0, 'EPOCHS': 300, 'WARMUP_EPOCHS': 20, 'WEIGHT_DECAY': 0.05, 'BASE_LR': 0.0005, 'WARMUP_LR': 5e-07, 'MIN_LR': 5e-06, 'CLIP_GRAD': 5.0, 'AUTO_RESUME': True, 'ACCUMULATION_STEPS': 0, 'USE_CHECKPOINT': False, 'LR_SCHEDULER': CfgNode({'NAME': 'cosine', 'DECAY_EPOCHS': 30, 'DECAY_RATE': 0.1}), 'OPTIMIZER': CfgNode({'NAME': 'adamw', 'EPS': 1e-08, 'BETAS': (0.9, 0.999), 'MOMENTUM': 0.9})}), 'AUG': CfgNode({'COLOR_JITTER': 0.4, 'AUTO_AUGMENT': 'rand-m9-mstd0.5-inc1', 'REPROB': 0.25, 'REMODE': 'pixel', 'RECOUNT': 1, 'MIXUP': 0.8, 'CUTMIX': 1.0, 'CUTMIX_MINMAX': None, 'MIXUP_PROB': 1.0, 'MIXUP_SWITCH_PROB': 0.5, 'MIXUP_MODE': 'batch'}), 'TEST': CfgNode({'CROP': True, 'SEQUENTIAL': False}), 'AMP_OPT_LEVEL': 'O0', 'OUTPUT': '/srv/share4/gstoica3/checkpoints/swin_transformer_cifar/swin_tiny_patch4_window7_224_cifar100/baseline_fp32', 'TAG': 'baseline_fp32', 'SAVE_FREQ': 1, 'PRINT_FREQ': 10, 'SEED': 0, 'EVAL_MODE': False, 'THROUGHPUT_MODE': False, 'LOCAL_RANK': 0})"
      ]
     },
     "execution_count": 4,
     "metadata": {},
     "output_type": "execute_result"
    }
   ],
   "source": [
    "config"
   ]
  },
  {
   "cell_type": "code",
   "execution_count": 5,
   "id": "fc2d8018",
   "metadata": {},
   "outputs": [],
   "source": [
    "seed = config.SEED\n",
    "torch.manual_seed(seed)\n",
    "torch.cuda.manual_seed(seed)\n",
    "np.random.seed(seed)\n",
    "random.seed(seed)\n",
    "cudnn.benchmark = True"
   ]
  },
  {
   "cell_type": "code",
   "execution_count": 6,
   "id": "ab824d9b",
   "metadata": {},
   "outputs": [],
   "source": [
    "config.defrost()\n",
    "config.TRAIN.BASE_LR = .000001\n",
    "config.TRAIN.WARMUP_LR = .000001\n",
    "config.TRAIN.MIN_LR = .000001\n",
    "config.DATA.DATA_PATH = '/nethome/gstoica3/research/pytorch-cifar100/data/cifar-100-python'\n",
    "config.freeze()"
   ]
  },
  {
   "cell_type": "code",
   "execution_count": 7,
   "id": "c26162f5",
   "metadata": {},
   "outputs": [
    {
     "name": "stdout",
     "output_type": "stream",
     "text": [
      "Files already downloaded and verified\n",
      "Files already downloaded and verified\n"
     ]
    },
    {
     "name": "stderr",
     "output_type": "stream",
     "text": [
      "/srv/share/gstoica3/miniconda3/envs/cifar/lib/python3.7/site-packages/torch/utils/data/dataloader.py:481: UserWarning: This DataLoader will create 8 worker processes in total. Our suggested max number of worker in current system is 6, which is smaller than what this DataLoader is going to create. Please be aware that excessive worker creation might get DataLoader running slow or even freeze, lower the worker number to avoid potential slowness/freeze if necessary.\n",
      "  cpuset_checked))\n"
     ]
    }
   ],
   "source": [
    "dataset_val, data_loader_val, mixup_fn = build_val_loader(config)"
   ]
  },
  {
   "cell_type": "code",
   "execution_count": 8,
   "id": "0c846fc5",
   "metadata": {},
   "outputs": [
    {
     "name": "stderr",
     "output_type": "stream",
     "text": [
      "/srv/share/gstoica3/miniconda3/envs/cifar/lib/python3.7/site-packages/torch/functional.py:445: UserWarning: torch.meshgrid: in an upcoming release, it will be required to pass the indexing argument. (Triggered internally at  ../aten/src/ATen/native/TensorShape.cpp:2157.)\n",
      "  return _VF.meshgrid(tensors, **kwargs)  # type: ignore[attr-defined]\n"
     ]
    }
   ],
   "source": [
    "model = build_model(config)"
   ]
  },
  {
   "cell_type": "code",
   "execution_count": 9,
   "id": "2bbf4816",
   "metadata": {},
   "outputs": [
    {
     "data": {
      "text/plain": [
       "SwinTransformer(\n",
       "  (patch_embed): PatchEmbed(\n",
       "    (proj): Conv2d(3, 96, kernel_size=(4, 4), stride=(4, 4))\n",
       "    (norm): LayerNorm((96,), eps=1e-05, elementwise_affine=True)\n",
       "  )\n",
       "  (pos_drop): Dropout(p=0.0, inplace=False)\n",
       "  (layers): ModuleList(\n",
       "    (0): BasicLayer(\n",
       "      dim=96, input_resolution=(56, 56), depth=2\n",
       "      (blocks): ModuleList(\n",
       "        (0): SwinTransformerBlock(\n",
       "          dim=96, input_resolution=(56, 56), num_heads=3, window_size=7, shift_size=0, mlp_ratio=4.0\n",
       "          (norm1): LayerNorm((96,), eps=1e-05, elementwise_affine=True)\n",
       "          (attn): WindowAttention(\n",
       "            dim=96, window_size=(7, 7), num_heads=3\n",
       "            (qkv): Linear(in_features=96, out_features=288, bias=True)\n",
       "            (attn_drop): Dropout(p=0.0, inplace=False)\n",
       "            (proj): Linear(in_features=96, out_features=96, bias=True)\n",
       "            (proj_drop): Dropout(p=0.0, inplace=False)\n",
       "            (softmax): Softmax(dim=-1)\n",
       "          )\n",
       "          (drop_path): Identity()\n",
       "          (norm2): LayerNorm((96,), eps=1e-05, elementwise_affine=True)\n",
       "          (mlp): Mlp(\n",
       "            (fc1): Linear(in_features=96, out_features=384, bias=True)\n",
       "            (act): GELU()\n",
       "            (fc2): Linear(in_features=384, out_features=96, bias=True)\n",
       "            (drop): Dropout(p=0.0, inplace=False)\n",
       "          )\n",
       "        )\n",
       "        (1): SwinTransformerBlock(\n",
       "          dim=96, input_resolution=(56, 56), num_heads=3, window_size=7, shift_size=3, mlp_ratio=4.0\n",
       "          (norm1): LayerNorm((96,), eps=1e-05, elementwise_affine=True)\n",
       "          (attn): WindowAttention(\n",
       "            dim=96, window_size=(7, 7), num_heads=3\n",
       "            (qkv): Linear(in_features=96, out_features=288, bias=True)\n",
       "            (attn_drop): Dropout(p=0.0, inplace=False)\n",
       "            (proj): Linear(in_features=96, out_features=96, bias=True)\n",
       "            (proj_drop): Dropout(p=0.0, inplace=False)\n",
       "            (softmax): Softmax(dim=-1)\n",
       "          )\n",
       "          (drop_path): DropPath()\n",
       "          (norm2): LayerNorm((96,), eps=1e-05, elementwise_affine=True)\n",
       "          (mlp): Mlp(\n",
       "            (fc1): Linear(in_features=96, out_features=384, bias=True)\n",
       "            (act): GELU()\n",
       "            (fc2): Linear(in_features=384, out_features=96, bias=True)\n",
       "            (drop): Dropout(p=0.0, inplace=False)\n",
       "          )\n",
       "        )\n",
       "      )\n",
       "      (downsample): PatchMerging(\n",
       "        input_resolution=(56, 56), dim=96\n",
       "        (reduction): Linear(in_features=384, out_features=192, bias=False)\n",
       "        (norm): LayerNorm((384,), eps=1e-05, elementwise_affine=True)\n",
       "      )\n",
       "    )\n",
       "    (1): BasicLayer(\n",
       "      dim=192, input_resolution=(28, 28), depth=2\n",
       "      (blocks): ModuleList(\n",
       "        (0): SwinTransformerBlock(\n",
       "          dim=192, input_resolution=(28, 28), num_heads=6, window_size=7, shift_size=0, mlp_ratio=4.0\n",
       "          (norm1): LayerNorm((192,), eps=1e-05, elementwise_affine=True)\n",
       "          (attn): WindowAttention(\n",
       "            dim=192, window_size=(7, 7), num_heads=6\n",
       "            (qkv): Linear(in_features=192, out_features=576, bias=True)\n",
       "            (attn_drop): Dropout(p=0.0, inplace=False)\n",
       "            (proj): Linear(in_features=192, out_features=192, bias=True)\n",
       "            (proj_drop): Dropout(p=0.0, inplace=False)\n",
       "            (softmax): Softmax(dim=-1)\n",
       "          )\n",
       "          (drop_path): DropPath()\n",
       "          (norm2): LayerNorm((192,), eps=1e-05, elementwise_affine=True)\n",
       "          (mlp): Mlp(\n",
       "            (fc1): Linear(in_features=192, out_features=768, bias=True)\n",
       "            (act): GELU()\n",
       "            (fc2): Linear(in_features=768, out_features=192, bias=True)\n",
       "            (drop): Dropout(p=0.0, inplace=False)\n",
       "          )\n",
       "        )\n",
       "        (1): SwinTransformerBlock(\n",
       "          dim=192, input_resolution=(28, 28), num_heads=6, window_size=7, shift_size=3, mlp_ratio=4.0\n",
       "          (norm1): LayerNorm((192,), eps=1e-05, elementwise_affine=True)\n",
       "          (attn): WindowAttention(\n",
       "            dim=192, window_size=(7, 7), num_heads=6\n",
       "            (qkv): Linear(in_features=192, out_features=576, bias=True)\n",
       "            (attn_drop): Dropout(p=0.0, inplace=False)\n",
       "            (proj): Linear(in_features=192, out_features=192, bias=True)\n",
       "            (proj_drop): Dropout(p=0.0, inplace=False)\n",
       "            (softmax): Softmax(dim=-1)\n",
       "          )\n",
       "          (drop_path): DropPath()\n",
       "          (norm2): LayerNorm((192,), eps=1e-05, elementwise_affine=True)\n",
       "          (mlp): Mlp(\n",
       "            (fc1): Linear(in_features=192, out_features=768, bias=True)\n",
       "            (act): GELU()\n",
       "            (fc2): Linear(in_features=768, out_features=192, bias=True)\n",
       "            (drop): Dropout(p=0.0, inplace=False)\n",
       "          )\n",
       "        )\n",
       "      )\n",
       "      (downsample): PatchMerging(\n",
       "        input_resolution=(28, 28), dim=192\n",
       "        (reduction): Linear(in_features=768, out_features=384, bias=False)\n",
       "        (norm): LayerNorm((768,), eps=1e-05, elementwise_affine=True)\n",
       "      )\n",
       "    )\n",
       "    (2): BasicLayer(\n",
       "      dim=384, input_resolution=(14, 14), depth=6\n",
       "      (blocks): ModuleList(\n",
       "        (0): SwinTransformerBlock(\n",
       "          dim=384, input_resolution=(14, 14), num_heads=12, window_size=7, shift_size=0, mlp_ratio=4.0\n",
       "          (norm1): LayerNorm((384,), eps=1e-05, elementwise_affine=True)\n",
       "          (attn): WindowAttention(\n",
       "            dim=384, window_size=(7, 7), num_heads=12\n",
       "            (qkv): Linear(in_features=384, out_features=1152, bias=True)\n",
       "            (attn_drop): Dropout(p=0.0, inplace=False)\n",
       "            (proj): Linear(in_features=384, out_features=384, bias=True)\n",
       "            (proj_drop): Dropout(p=0.0, inplace=False)\n",
       "            (softmax): Softmax(dim=-1)\n",
       "          )\n",
       "          (drop_path): DropPath()\n",
       "          (norm2): LayerNorm((384,), eps=1e-05, elementwise_affine=True)\n",
       "          (mlp): Mlp(\n",
       "            (fc1): Linear(in_features=384, out_features=1536, bias=True)\n",
       "            (act): GELU()\n",
       "            (fc2): Linear(in_features=1536, out_features=384, bias=True)\n",
       "            (drop): Dropout(p=0.0, inplace=False)\n",
       "          )\n",
       "        )\n",
       "        (1): SwinTransformerBlock(\n",
       "          dim=384, input_resolution=(14, 14), num_heads=12, window_size=7, shift_size=3, mlp_ratio=4.0\n",
       "          (norm1): LayerNorm((384,), eps=1e-05, elementwise_affine=True)\n",
       "          (attn): WindowAttention(\n",
       "            dim=384, window_size=(7, 7), num_heads=12\n",
       "            (qkv): Linear(in_features=384, out_features=1152, bias=True)\n",
       "            (attn_drop): Dropout(p=0.0, inplace=False)\n",
       "            (proj): Linear(in_features=384, out_features=384, bias=True)\n",
       "            (proj_drop): Dropout(p=0.0, inplace=False)\n",
       "            (softmax): Softmax(dim=-1)\n",
       "          )\n",
       "          (drop_path): DropPath()\n",
       "          (norm2): LayerNorm((384,), eps=1e-05, elementwise_affine=True)\n",
       "          (mlp): Mlp(\n",
       "            (fc1): Linear(in_features=384, out_features=1536, bias=True)\n",
       "            (act): GELU()\n",
       "            (fc2): Linear(in_features=1536, out_features=384, bias=True)\n",
       "            (drop): Dropout(p=0.0, inplace=False)\n",
       "          )\n",
       "        )\n",
       "        (2): SwinTransformerBlock(\n",
       "          dim=384, input_resolution=(14, 14), num_heads=12, window_size=7, shift_size=0, mlp_ratio=4.0\n",
       "          (norm1): LayerNorm((384,), eps=1e-05, elementwise_affine=True)\n",
       "          (attn): WindowAttention(\n",
       "            dim=384, window_size=(7, 7), num_heads=12\n",
       "            (qkv): Linear(in_features=384, out_features=1152, bias=True)\n",
       "            (attn_drop): Dropout(p=0.0, inplace=False)\n",
       "            (proj): Linear(in_features=384, out_features=384, bias=True)\n",
       "            (proj_drop): Dropout(p=0.0, inplace=False)\n",
       "            (softmax): Softmax(dim=-1)\n",
       "          )\n",
       "          (drop_path): DropPath()\n",
       "          (norm2): LayerNorm((384,), eps=1e-05, elementwise_affine=True)\n",
       "          (mlp): Mlp(\n",
       "            (fc1): Linear(in_features=384, out_features=1536, bias=True)\n",
       "            (act): GELU()\n",
       "            (fc2): Linear(in_features=1536, out_features=384, bias=True)\n",
       "            (drop): Dropout(p=0.0, inplace=False)\n",
       "          )\n",
       "        )\n",
       "        (3): SwinTransformerBlock(\n",
       "          dim=384, input_resolution=(14, 14), num_heads=12, window_size=7, shift_size=3, mlp_ratio=4.0\n",
       "          (norm1): LayerNorm((384,), eps=1e-05, elementwise_affine=True)\n",
       "          (attn): WindowAttention(\n",
       "            dim=384, window_size=(7, 7), num_heads=12\n",
       "            (qkv): Linear(in_features=384, out_features=1152, bias=True)\n",
       "            (attn_drop): Dropout(p=0.0, inplace=False)\n",
       "            (proj): Linear(in_features=384, out_features=384, bias=True)\n",
       "            (proj_drop): Dropout(p=0.0, inplace=False)\n",
       "            (softmax): Softmax(dim=-1)\n",
       "          )\n",
       "          (drop_path): DropPath()\n",
       "          (norm2): LayerNorm((384,), eps=1e-05, elementwise_affine=True)\n",
       "          (mlp): Mlp(\n",
       "            (fc1): Linear(in_features=384, out_features=1536, bias=True)\n",
       "            (act): GELU()\n",
       "            (fc2): Linear(in_features=1536, out_features=384, bias=True)\n",
       "            (drop): Dropout(p=0.0, inplace=False)\n",
       "          )\n",
       "        )\n",
       "        (4): SwinTransformerBlock(\n",
       "          dim=384, input_resolution=(14, 14), num_heads=12, window_size=7, shift_size=0, mlp_ratio=4.0\n",
       "          (norm1): LayerNorm((384,), eps=1e-05, elementwise_affine=True)\n",
       "          (attn): WindowAttention(\n",
       "            dim=384, window_size=(7, 7), num_heads=12\n",
       "            (qkv): Linear(in_features=384, out_features=1152, bias=True)\n",
       "            (attn_drop): Dropout(p=0.0, inplace=False)\n",
       "            (proj): Linear(in_features=384, out_features=384, bias=True)\n",
       "            (proj_drop): Dropout(p=0.0, inplace=False)\n",
       "            (softmax): Softmax(dim=-1)\n",
       "          )\n",
       "          (drop_path): DropPath()\n",
       "          (norm2): LayerNorm((384,), eps=1e-05, elementwise_affine=True)\n",
       "          (mlp): Mlp(\n",
       "            (fc1): Linear(in_features=384, out_features=1536, bias=True)\n",
       "            (act): GELU()\n",
       "            (fc2): Linear(in_features=1536, out_features=384, bias=True)\n",
       "            (drop): Dropout(p=0.0, inplace=False)\n",
       "          )\n",
       "        )\n",
       "        (5): SwinTransformerBlock(\n",
       "          dim=384, input_resolution=(14, 14), num_heads=12, window_size=7, shift_size=3, mlp_ratio=4.0\n",
       "          (norm1): LayerNorm((384,), eps=1e-05, elementwise_affine=True)\n",
       "          (attn): WindowAttention(\n",
       "            dim=384, window_size=(7, 7), num_heads=12\n",
       "            (qkv): Linear(in_features=384, out_features=1152, bias=True)\n",
       "            (attn_drop): Dropout(p=0.0, inplace=False)\n",
       "            (proj): Linear(in_features=384, out_features=384, bias=True)\n",
       "            (proj_drop): Dropout(p=0.0, inplace=False)\n",
       "            (softmax): Softmax(dim=-1)\n",
       "          )\n",
       "          (drop_path): DropPath()\n",
       "          (norm2): LayerNorm((384,), eps=1e-05, elementwise_affine=True)\n",
       "          (mlp): Mlp(\n",
       "            (fc1): Linear(in_features=384, out_features=1536, bias=True)\n",
       "            (act): GELU()\n",
       "            (fc2): Linear(in_features=1536, out_features=384, bias=True)\n",
       "            (drop): Dropout(p=0.0, inplace=False)\n",
       "          )\n",
       "        )\n",
       "      )\n",
       "      (downsample): PatchMerging(\n",
       "        input_resolution=(14, 14), dim=384\n",
       "        (reduction): Linear(in_features=1536, out_features=768, bias=False)\n",
       "        (norm): LayerNorm((1536,), eps=1e-05, elementwise_affine=True)\n",
       "      )\n",
       "    )\n",
       "    (3): BasicLayer(\n",
       "      dim=768, input_resolution=(7, 7), depth=2\n",
       "      (blocks): ModuleList(\n",
       "        (0): SwinTransformerBlock(\n",
       "          dim=768, input_resolution=(7, 7), num_heads=24, window_size=7, shift_size=0, mlp_ratio=4.0\n",
       "          (norm1): LayerNorm((768,), eps=1e-05, elementwise_affine=True)\n",
       "          (attn): WindowAttention(\n",
       "            dim=768, window_size=(7, 7), num_heads=24\n",
       "            (qkv): Linear(in_features=768, out_features=2304, bias=True)\n",
       "            (attn_drop): Dropout(p=0.0, inplace=False)\n",
       "            (proj): Linear(in_features=768, out_features=768, bias=True)\n",
       "            (proj_drop): Dropout(p=0.0, inplace=False)\n",
       "            (softmax): Softmax(dim=-1)\n",
       "          )\n",
       "          (drop_path): DropPath()\n",
       "          (norm2): LayerNorm((768,), eps=1e-05, elementwise_affine=True)\n",
       "          (mlp): Mlp(\n",
       "            (fc1): Linear(in_features=768, out_features=3072, bias=True)\n",
       "            (act): GELU()\n",
       "            (fc2): Linear(in_features=3072, out_features=768, bias=True)\n",
       "            (drop): Dropout(p=0.0, inplace=False)\n",
       "          )\n",
       "        )\n",
       "        (1): SwinTransformerBlock(\n",
       "          dim=768, input_resolution=(7, 7), num_heads=24, window_size=7, shift_size=0, mlp_ratio=4.0\n",
       "          (norm1): LayerNorm((768,), eps=1e-05, elementwise_affine=True)\n",
       "          (attn): WindowAttention(\n",
       "            dim=768, window_size=(7, 7), num_heads=24\n",
       "            (qkv): Linear(in_features=768, out_features=2304, bias=True)\n",
       "            (attn_drop): Dropout(p=0.0, inplace=False)\n",
       "            (proj): Linear(in_features=768, out_features=768, bias=True)\n",
       "            (proj_drop): Dropout(p=0.0, inplace=False)\n",
       "            (softmax): Softmax(dim=-1)\n",
       "          )\n",
       "          (drop_path): DropPath()\n",
       "          (norm2): LayerNorm((768,), eps=1e-05, elementwise_affine=True)\n",
       "          (mlp): Mlp(\n",
       "            (fc1): Linear(in_features=768, out_features=3072, bias=True)\n",
       "            (act): GELU()\n",
       "            (fc2): Linear(in_features=3072, out_features=768, bias=True)\n",
       "            (drop): Dropout(p=0.0, inplace=False)\n",
       "          )\n",
       "        )\n",
       "      )\n",
       "    )\n",
       "  )\n",
       "  (norm): LayerNorm((768,), eps=1e-05, elementwise_affine=True)\n",
       "  (avgpool): AdaptiveAvgPool1d(output_size=1)\n",
       "  (head): Linear(in_features=768, out_features=100, bias=True)\n",
       ")"
      ]
     },
     "execution_count": 9,
     "metadata": {},
     "output_type": "execute_result"
    }
   ],
   "source": [
    "model.cuda()"
   ]
  },
  {
   "cell_type": "code",
   "execution_count": 10,
   "id": "c15c6840",
   "metadata": {},
   "outputs": [
    {
     "name": "stdout",
     "output_type": "stream",
     "text": [
      "All checkpoints founded in /srv/share4/gstoica3/checkpoints/swin_transformer_cifar/swin_tiny_patch4_window7_224_cifar100/baseline_fp32: ['ckpt_epoch_11.pth', 'ckpt_epoch_228.pth', 'ckpt_epoch_143.pth', 'ckpt_epoch_285.pth', 'ckpt_epoch_254.pth', 'ckpt_epoch_192.pth', 'ckpt_epoch_144.pth', 'ckpt_epoch_282.pth', 'ckpt_epoch_253.pth', 'ckpt_epoch_195.pth', 'ckpt_epoch_16.pth', 'ckpt_epoch_138.pth', 'ckpt_epoch_64.pth', 'ckpt_epoch_18.pth', 'ckpt_epoch_136.pth', 'ckpt_epoch_221.pth', 'ckpt_epoch_131.pth', 'ckpt_epoch_226.pth', 'ckpt_epoch_63.pth', 'ckpt_epoch_213.pth', 'ckpt_epoch_104.pth', 'ckpt_epoch_87.pth', 'ckpt_epoch_56.pth', 'ckpt_epoch_5.pth', 'ckpt_epoch_178.pth', 'ckpt_epoch_80.pth', 'ckpt_epoch_51.pth', 'ckpt_epoch_2.pth', 'ckpt_epoch_268.pth', 'ckpt_epoch_214.pth', 'ckpt_epoch_103.pth', 'ckpt_epoch_266.pth', 'ckpt_epoch_171.pth', 'ckpt_epoch_23.pth', 'ckpt_epoch_24.pth', 'ckpt_epoch_89.pth', 'ckpt_epoch_58.pth', 'ckpt_epoch_261.pth', 'ckpt_epoch_176.pth', 'ckpt_epoch_35.pth', 'ckpt_epoch_167.pth', 'ckpt_epoch_270.pth', 'ckpt_epoch_49.pth', 'ckpt_epoch_98.pth', 'ckpt_epoch_160.pth', 'ckpt_epoch_277.pth', 'ckpt_epoch_32.pth', 'ckpt_epoch_279.pth', 'ckpt_epoch_40.pth', 'ckpt_epoch_91.pth', 'ckpt_epoch_112.pth', 'ckpt_epoch_205.pth', 'ckpt_epoch_115.pth', 'ckpt_epoch_202.pth', 'ckpt_epoch_169.pth', 'ckpt_epoch_47.pth', 'ckpt_epoch_96.pth', 'ckpt_epoch_237.pth', 'ckpt_epoch_120.pth', 'ckpt_epoch_72.pth', 'ckpt_epoch_75.pth', 'ckpt_epoch_230.pth', 'ckpt_epoch_127.pth', 'ckpt_epoch_242.pth', 'ckpt_epoch_184.pth', 'ckpt_epoch_155.pth', 'ckpt_epoch_293.pth', 'ckpt_epoch_129.pth', 'ckpt_epoch_239.pth', 'ckpt_epoch_245.pth', 'ckpt_epoch_183.pth', 'ckpt_epoch_152.pth', 'ckpt_epoch_294.pth', 'ckpt_epoch_25.pth', 'ckpt_epoch_88.pth', 'ckpt_epoch_59.pth', 'ckpt_epoch_260.pth', 'ckpt_epoch_177.pth', 'ckpt_epoch_267.pth', 'ckpt_epoch_170.pth', 'ckpt_epoch_22.pth', 'ckpt_epoch_81.pth', 'ckpt_epoch_50.pth', 'ckpt_epoch_3.pth', 'ckpt_epoch_269.pth', 'ckpt_epoch_215.pth', 'ckpt_epoch_102.pth', 'ckpt_epoch_212.pth', 'ckpt_epoch_105.pth', 'ckpt_epoch_86.pth', 'ckpt_epoch_57.pth', 'ckpt_epoch_4.pth', 'ckpt_epoch_179.pth', 'ckpt_epoch_130.pth', 'ckpt_epoch_227.pth', 'ckpt_epoch_62.pth', 'ckpt_epoch_65.pth', 'ckpt_epoch_19.pth', 'ckpt_epoch_137.pth', 'ckpt_epoch_220.pth', 'ckpt_epoch_145.pth', 'ckpt_epoch_283.pth', 'ckpt_epoch_252.pth', 'ckpt_epoch_194.pth', 'ckpt_epoch_17.pth', 'ckpt_epoch_139.pth', 'ckpt_epoch_10.pth', 'ckpt_epoch_229.pth', 'ckpt_epoch_142.pth', 'ckpt_epoch_284.pth', 'ckpt_epoch_255.pth', 'ckpt_epoch_193.pth', 'ckpt_epoch_238.pth', 'ckpt_epoch_244.pth', 'ckpt_epoch_182.pth', 'ckpt_epoch_153.pth', 'ckpt_epoch_295.pth', 'ckpt_epoch_243.pth', 'ckpt_epoch_185.pth', 'ckpt_epoch_154.pth', 'ckpt_epoch_292.pth', 'ckpt_epoch_128.pth', 'ckpt_epoch_74.pth', 'ckpt_epoch_231.pth', 'ckpt_epoch_126.pth', 'ckpt_epoch_236.pth', 'ckpt_epoch_121.pth', 'ckpt_epoch_73.pth', 'ckpt_epoch_114.pth', 'ckpt_epoch_203.pth', 'ckpt_epoch_168.pth', 'ckpt_epoch_46.pth', 'ckpt_epoch_97.pth', 'ckpt_epoch_278.pth', 'ckpt_epoch_41.pth', 'ckpt_epoch_90.pth', 'ckpt_epoch_113.pth', 'ckpt_epoch_204.pth', 'ckpt_epoch_161.pth', 'ckpt_epoch_276.pth', 'ckpt_epoch_33.pth', 'ckpt_epoch_34.pth', 'ckpt_epoch_166.pth', 'ckpt_epoch_271.pth', 'ckpt_epoch_48.pth', 'ckpt_epoch_99.pth', 'ckpt_epoch_186.pth', 'ckpt_epoch_240.pth', 'ckpt_epoch_291.pth', 'ckpt_epoch_157.pth', 'ckpt_epoch_79.pth', 'ckpt_epoch_181.pth', 'ckpt_epoch_247.pth', 'ckpt_epoch_296.pth', 'ckpt_epoch_150.pth', 'ckpt_epoch_235.pth', 'ckpt_epoch_122.pth', 'ckpt_epoch_249.pth', 'ckpt_epoch_298.pth', 'ckpt_epoch_70.pth', 'ckpt_epoch_188.pth', 'ckpt_epoch_159.pth', 'ckpt_epoch_77.pth', 'ckpt_epoch_232.pth', 'ckpt_epoch_125.pth', 'ckpt_epoch_42.pth', 'ckpt_epoch_93.pth', 'ckpt_epoch_110.pth', 'ckpt_epoch_207.pth', 'ckpt_epoch_117.pth', 'ckpt_epoch_200.pth', 'ckpt_epoch_39.pth', 'ckpt_epoch_45.pth', 'ckpt_epoch_94.pth', 'ckpt_epoch_119.pth', 'ckpt_epoch_37.pth', 'ckpt_epoch_165.pth', 'ckpt_epoch_272.pth', 'ckpt_epoch_162.pth', 'ckpt_epoch_275.pth', 'ckpt_epoch_209.pth', 'ckpt_epoch_30.pth', 'ckpt_epoch_264.pth', 'ckpt_epoch_173.pth', 'ckpt_epoch_21.pth', 'ckpt_epoch_218.pth', 'ckpt_epoch_26.pth', 'ckpt_epoch_108.pth', 'ckpt_epoch_9.pth', 'ckpt_epoch_263.pth', 'ckpt_epoch_174.pth', 'ckpt_epoch_28.pth', 'ckpt_epoch_211.pth', 'ckpt_epoch_106.pth', 'ckpt_epoch_85.pth', 'ckpt_epoch_7.pth', 'ckpt_epoch_54.pth', 'ckpt_epoch_82.pth', 'ckpt_epoch_0.pth', 'ckpt_epoch_53.pth', 'ckpt_epoch_216.pth', 'ckpt_epoch_101.pth', 'ckpt_epoch_66.pth', 'ckpt_epoch_148.pth', 'ckpt_epoch_199.pth', 'ckpt_epoch_134.pth', 'ckpt_epoch_223.pth', 'ckpt_epoch_133.pth', 'ckpt_epoch_224.pth', 'ckpt_epoch_61.pth', 'ckpt_epoch_289.pth', 'ckpt_epoch_258.pth', 'ckpt_epoch_13.pth', 'ckpt_epoch_287.pth', 'ckpt_epoch_141.pth', 'ckpt_epoch_190.pth', 'ckpt_epoch_256.pth', 'ckpt_epoch_68.pth', 'ckpt_epoch_280.pth', 'ckpt_epoch_146.pth', 'ckpt_epoch_197.pth', 'ckpt_epoch_251.pth', 'ckpt_epoch_14.pth', 'ckpt_epoch_163.pth', 'ckpt_epoch_274.pth', 'ckpt_epoch_208.pth', 'ckpt_epoch_31.pth', 'ckpt_epoch_118.pth', 'ckpt_epoch_36.pth', 'ckpt_epoch_164.pth', 'ckpt_epoch_273.pth', 'ckpt_epoch_116.pth', 'ckpt_epoch_201.pth', 'ckpt_epoch_38.pth', 'ckpt_epoch_44.pth', 'ckpt_epoch_95.pth', 'ckpt_epoch_43.pth', 'ckpt_epoch_92.pth', 'ckpt_epoch_111.pth', 'ckpt_epoch_206.pth', 'ckpt_epoch_189.pth', 'ckpt_epoch_158.pth', 'ckpt_epoch_76.pth', 'ckpt_epoch_233.pth', 'ckpt_epoch_124.pth', 'ckpt_epoch_234.pth', 'ckpt_epoch_123.pth', 'ckpt_epoch_248.pth', 'ckpt_epoch_299.pth', 'ckpt_epoch_71.pth', 'ckpt_epoch_180.pth', 'ckpt_epoch_246.pth', 'ckpt_epoch_297.pth', 'ckpt_epoch_151.pth', 'ckpt_epoch_187.pth', 'ckpt_epoch_241.pth', 'ckpt_epoch_290.pth', 'ckpt_epoch_156.pth', 'ckpt_epoch_78.pth', 'ckpt_epoch_69.pth', 'ckpt_epoch_281.pth', 'ckpt_epoch_147.pth', 'ckpt_epoch_196.pth', 'ckpt_epoch_250.pth', 'ckpt_epoch_15.pth', 'ckpt_epoch_12.pth', 'ckpt_epoch_286.pth', 'ckpt_epoch_140.pth', 'ckpt_epoch_191.pth', 'ckpt_epoch_257.pth', 'ckpt_epoch_132.pth', 'ckpt_epoch_225.pth', 'ckpt_epoch_60.pth', 'ckpt_epoch_288.pth', 'ckpt_epoch_259.pth', 'ckpt_epoch_67.pth', 'ckpt_epoch_149.pth', 'ckpt_epoch_198.pth', 'ckpt_epoch_135.pth', 'ckpt_epoch_222.pth', 'ckpt_epoch_83.pth', 'ckpt_epoch_1.pth', 'ckpt_epoch_52.pth', 'ckpt_epoch_217.pth', 'ckpt_epoch_100.pth', 'ckpt_epoch_29.pth', 'ckpt_epoch_210.pth', 'ckpt_epoch_107.pth', 'ckpt_epoch_84.pth', 'ckpt_epoch_6.pth', 'ckpt_epoch_55.pth', 'ckpt_epoch_27.pth', 'ckpt_epoch_109.pth', 'ckpt_epoch_8.pth', 'ckpt_epoch_262.pth', 'ckpt_epoch_175.pth', 'ckpt_epoch_265.pth', 'ckpt_epoch_172.pth', 'ckpt_epoch_20.pth', 'ckpt_epoch_219.pth']\n",
      "The latest checkpoint founded: /srv/share4/gstoica3/checkpoints/swin_transformer_cifar/swin_tiny_patch4_window7_224_cifar100/baseline_fp32/ckpt_epoch_299.pth\n"
     ]
    }
   ],
   "source": [
    "resume_file = auto_resume_helper(config.OUTPUT)"
   ]
  },
  {
   "cell_type": "code",
   "execution_count": 11,
   "id": "ccee46ad",
   "metadata": {},
   "outputs": [],
   "source": [
    "config.defrost()\n",
    "config.MODEL.PRETRAINED = resume_file\n",
    "config.freeze()\n"
   ]
  },
  {
   "cell_type": "code",
   "execution_count": 12,
   "id": "0224cfc3",
   "metadata": {},
   "outputs": [],
   "source": [
    "load_pretrained(config, model)"
   ]
  },
  {
   "cell_type": "code",
   "execution_count": 13,
   "id": "8d9b6986",
   "metadata": {},
   "outputs": [
    {
     "name": "stdout",
     "output_type": "stream",
     "text": [
      "Test: [0/79]\tTime 3.708 (3.708)\tLoss 0.7454 (0.7454)\tAcc@1 75.000 (75.000)\tAcc@5 100.000 (100.000)\tMem 734MB\n",
      "Test: [0/79]\tTime 0.109 (1.908)\tLoss 0.7289 (0.7372)\tAcc@1 84.375 (79.688)\tAcc@5 93.750 (96.875)\tMem 734MB\n",
      "Test: [0/79]\tTime 0.057 (1.291)\tLoss 0.9836 (0.8193)\tAcc@1 68.750 (76.042)\tAcc@5 96.875 (96.875)\tMem 734MB\n",
      "Test: [0/79]\tTime 0.075 (0.987)\tLoss 0.6413 (0.7748)\tAcc@1 87.500 (78.906)\tAcc@5 100.000 (97.656)\tMem 734MB\n",
      "Test: [10/79]\tTime 0.054 (0.143)\tLoss 0.8635 (0.9322)\tAcc@1 75.000 (77.134)\tAcc@5 96.875 (94.436)\tMem 734MB\n",
      "Test: [10/79]\tTime 0.047 (0.141)\tLoss 1.2669 (0.9402)\tAcc@1 71.875 (77.009)\tAcc@5 87.500 (94.271)\tMem 734MB\n",
      "Test: [10/79]\tTime 0.047 (0.139)\tLoss 0.7704 (0.9363)\tAcc@1 81.250 (77.108)\tAcc@5 93.750 (94.259)\tMem 734MB\n",
      "Test: [10/79]\tTime 0.046 (0.137)\tLoss 1.1476 (0.9411)\tAcc@1 68.750 (76.918)\tAcc@5 93.750 (94.247)\tMem 734MB\n",
      "Test: [20/79]\tTime 0.050 (0.096)\tLoss 0.7611 (0.9311)\tAcc@1 78.125 (76.890)\tAcc@5 96.875 (94.406)\tMem 734MB\n",
      "Test: [20/79]\tTime 0.047 (0.096)\tLoss 1.4408 (0.9373)\tAcc@1 65.625 (76.753)\tAcc@5 81.250 (94.245)\tMem 734MB\n",
      "Test: [20/79]\tTime 0.047 (0.095)\tLoss 0.8777 (0.9366)\tAcc@1 71.875 (76.694)\tAcc@5 96.875 (94.277)\tMem 734MB\n",
      "Test: [20/79]\tTime 0.047 (0.095)\tLoss 1.0221 (0.9376)\tAcc@1 68.750 (76.600)\tAcc@5 96.875 (94.308)\tMem 734MB\n",
      "Test: [30/79]\tTime 0.050 (0.080)\tLoss 1.1968 (0.9426)\tAcc@1 65.625 (76.007)\tAcc@5 93.750 (94.576)\tMem 734MB\n",
      "Test: [30/79]\tTime 0.046 (0.080)\tLoss 0.9838 (0.9429)\tAcc@1 68.750 (75.948)\tAcc@5 96.875 (94.595)\tMem 734MB\n",
      "Test: [30/79]\tTime 0.046 (0.080)\tLoss 0.8370 (0.9421)\tAcc@1 81.250 (75.991)\tAcc@5 90.625 (94.563)\tMem 734MB\n",
      "Test: [30/79]\tTime 0.047 (0.079)\tLoss 0.7544 (0.9405)\tAcc@1 78.125 (76.008)\tAcc@5 100.000 (94.607)\tMem 734MB\n",
      "Test: [40/79]\tTime 0.054 (0.072)\tLoss 0.6334 (0.9419)\tAcc@1 84.375 (76.398)\tAcc@5 100.000 (94.585)\tMem 734MB\n",
      "Test: [40/79]\tTime 0.047 (0.072)\tLoss 1.0954 (0.9429)\tAcc@1 71.875 (76.370)\tAcc@5 87.500 (94.541)\tMem 734MB\n",
      "Test: [40/79]\tTime 0.047 (0.072)\tLoss 0.9833 (0.9431)\tAcc@1 71.875 (76.342)\tAcc@5 96.875 (94.555)\tMem 734MB\n",
      "Test: [40/79]\tTime 0.048 (0.072)\tLoss 0.5934 (0.9410)\tAcc@1 84.375 (76.391)\tAcc@5 100.000 (94.588)\tMem 734MB\n",
      "Test: [50/79]\tTime 0.057 (0.067)\tLoss 0.5294 (0.9363)\tAcc@1 96.875 (76.928)\tAcc@5 100.000 (94.652)\tMem 734MB\n",
      "Test: [50/79]\tTime 0.046 (0.067)\tLoss 0.6188 (0.9348)\tAcc@1 93.750 (77.011)\tAcc@5 96.875 (94.663)\tMem 734MB\n",
      "Test: [50/79]\tTime 0.047 (0.067)\tLoss 1.2165 (0.9362)\tAcc@1 65.625 (76.955)\tAcc@5 93.750 (94.658)\tMem 734MB\n",
      "Test: [50/79]\tTime 0.046 (0.067)\tLoss 1.3744 (0.9383)\tAcc@1 68.750 (76.915)\tAcc@5 84.375 (94.608)\tMem 734MB\n",
      "Test: [60/79]\tTime 0.051 (0.064)\tLoss 0.7302 (0.9361)\tAcc@1 84.375 (76.984)\tAcc@5 93.750 (94.645)\tMem 734MB\n",
      "Test: [60/79]\tTime 0.046 (0.064)\tLoss 1.0464 (0.9365)\tAcc@1 78.125 (76.989)\tAcc@5 93.750 (94.641)\tMem 734MB\n",
      "Test: [60/79]\tTime 0.046 (0.064)\tLoss 1.2889 (0.9380)\tAcc@1 81.250 (77.006)\tAcc@5 84.375 (94.599)\tMem 734MB\n",
      "Test: [60/79]\tTime 0.047 (0.064)\tLoss 1.0641 (0.9385)\tAcc@1 75.000 (76.998)\tAcc@5 93.750 (94.595)\tMem 734MB\n",
      "Test: [70/79]\tTime 0.049 (0.062)\tLoss 1.0025 (0.9278)\tAcc@1 81.250 (77.458)\tAcc@5 87.500 (94.784)\tMem 734MB\n",
      "Test: [70/79]\tTime 0.046 (0.061)\tLoss 1.2181 (0.9289)\tAcc@1 68.750 (77.427)\tAcc@5 93.750 (94.781)\tMem 734MB\n",
      "Test: [70/79]\tTime 0.046 (0.061)\tLoss 0.9210 (0.9288)\tAcc@1 75.000 (77.418)\tAcc@5 96.875 (94.788)\tMem 734MB\n",
      "Test: [70/79]\tTime 0.047 (0.061)\tLoss 1.0281 (0.9292)\tAcc@1 78.125 (77.421)\tAcc@5 93.750 (94.784)\tMem 734MB\n",
      " * Acc@1 77.410 Acc@5 94.720\n"
     ]
    }
   ],
   "source": [
    "acc1, acc5, loss = validate(config, data_loader_val, model, accumulation_steps=4)"
   ]
  },
  {
   "cell_type": "code",
   "execution_count": 21,
   "id": "5b49c3bb",
   "metadata": {},
   "outputs": [],
   "source": [
    "for idx, (images, target) in enumerate(data_loader_val):\n",
    "    images = images.cuda(non_blocking=True)\n",
    "    target = target.cuda(non_blocking=True)\n",
    "    break"
   ]
  },
  {
   "cell_type": "code",
   "execution_count": 19,
   "id": "e9a81f57",
   "metadata": {},
   "outputs": [],
   "source": [
    "def obtain_baseline_model_features(model, images, extract_loc):\n",
    "    patched_images = model.patch_embed(images)\n",
    "    if model.ape:\n",
    "        patched_images += model.absolute_pos_embed\n",
    "    x = model.pos_drop(patched_images)\n",
    "    for idx, layer in enumerate(model.layers):\n",
    "        if idx == extract_loc:\n",
    "            break\n",
    "        x = layer(x)\n",
    "    return {\n",
    "        'input_features': x,\n",
    "        'output_features': layer(x)\n",
    "    }"
   ]
  },
  {
   "cell_type": "code",
   "execution_count": 22,
   "id": "eae8bf8c",
   "metadata": {},
   "outputs": [],
   "source": [
    "features = obtain_baseline_model_features(model, images, 0)"
   ]
  },
  {
   "cell_type": "code",
   "execution_count": 24,
   "id": "81617484",
   "metadata": {},
   "outputs": [
    {
     "data": {
      "text/plain": [
       "(torch.Size([128, 3136, 96]), torch.Size([128, 784, 192]))"
      ]
     },
     "execution_count": 24,
     "metadata": {},
     "output_type": "execute_result"
    }
   ],
   "source": [
    "features['input_features'].shape, features['output_features'].shape"
   ]
  },
  {
   "cell_type": "code",
   "execution_count": 25,
   "id": "4adf9922",
   "metadata": {},
   "outputs": [],
   "source": [
    "from sklearn.decomposition import PCA"
   ]
  },
  {
   "cell_type": "code",
   "execution_count": 26,
   "id": "8e350e88",
   "metadata": {},
   "outputs": [],
   "source": [
    "input_PCA = PCA(n_components=3)\n",
    "output_PCA = PCA(n_components=3)"
   ]
  },
  {
   "cell_type": "code",
   "execution_count": 30,
   "id": "1e82094e",
   "metadata": {},
   "outputs": [
    {
     "data": {
      "text/plain": [
       "PCA(n_components=3)"
      ]
     },
     "execution_count": 30,
     "metadata": {},
     "output_type": "execute_result"
    }
   ],
   "source": [
    "input_PCA.fit(features['input_features'].detach().cpu().numpy().reshape(-1, 96))\n",
    "output_PCA.fit(features['output_features'].detach().cpu().numpy().reshape(-1, 192))"
   ]
  },
  {
   "cell_type": "code",
   "execution_count": 31,
   "id": "11c7e5fc",
   "metadata": {},
   "outputs": [],
   "source": [
    "flattened_inputs = features['input_features'].detach().cpu().numpy().reshape(-1, 96)\n",
    "flattened_outputs = features['output_features'].detach().cpu().numpy().reshape(-1, 192)"
   ]
  },
  {
   "cell_type": "code",
   "execution_count": 39,
   "id": "cd1be604",
   "metadata": {},
   "outputs": [],
   "source": [
    "reduced_inputs = input_PCA.transform(flattened_inputs).reshape(128, 3136, 3).reshape(128, 56, 56, 3)\n",
    "reduced_outputs = output_PCA.transform(flattened_outputs).reshape(128, 784, 3).reshape(128, 28, 28, 3)"
   ]
  },
  {
   "cell_type": "code",
   "execution_count": null,
   "id": "fea988be",
   "metadata": {},
   "outputs": [],
   "source": [
    "import matplotlib.pyplot as plt"
   ]
  },
  {
   "cell_type": "code",
   "execution_count": 49,
   "id": "358fd913",
   "metadata": {},
   "outputs": [
    {
     "name": "stderr",
     "output_type": "stream",
     "text": [
      "Clipping input data to the valid range for imshow with RGB data ([0..1] for floats or [0..255] for integers).\n"
     ]
    },
    {
     "data": {
      "text/plain": [
       "<matplotlib.image.AxesImage at 0x7f667d3ba110>"
      ]
     },
     "execution_count": 49,
     "metadata": {},
     "output_type": "execute_result"
    },
    {
     "data": {
      "image/png": "[encoded data removed]",
      "text/plain": [
       "<Figure size 432x288 with 1 Axes>"
      ]
     },
     "metadata": {
      "needs_background": "light"
     },
     "output_type": "display_data"
    }
   ],
   "source": [
    "plt.imshow(images[117].permute(1, 2, 0).detach().cpu().numpy())"
   ]
  },
  {
   "cell_type": "code",
   "execution_count": 50,
   "id": "526febea",
   "metadata": {},
   "outputs": [
    {
     "name": "stderr",
     "output_type": "stream",
     "text": [
      "Clipping input data to the valid range for imshow with RGB data ([0..1] for floats or [0..255] for integers).\n"
     ]
    },
    {
     "data": {
      "text/plain": [
       "<matplotlib.image.AxesImage at 0x7f667d4e5410>"
      ]
     },
     "execution_count": 50,
     "metadata": {},
     "output_type": "execute_result"
    },
    {
     "data": {
      "image/png": "[encoded data removed]",
      "text/plain": [
       "<Figure size 432x288 with 1 Axes>"
      ]
     },
     "metadata": {
      "needs_background": "light"
     },
     "output_type": "display_data"
    }
   ],
   "source": [
    "plt.imshow(reduced_inputs[117])"
   ]
  },
  {
   "cell_type": "code",
   "execution_count": 51,
   "id": "43da250b",
   "metadata": {},
   "outputs": [
    {
     "name": "stderr",
     "output_type": "stream",
     "text": [
      "Clipping input data to the valid range for imshow with RGB data ([0..1] for floats or [0..255] for integers).\n"
     ]
    },
    {
     "data": {
      "text/plain": [
       "<matplotlib.image.AxesImage at 0x7f667d34ba50>"
      ]
     },
     "execution_count": 51,
     "metadata": {},
     "output_type": "execute_result"
    },
    {
     "data": {
      "image/png": "[encoded data removed]",
      "text/plain": [
       "<Figure size 432x288 with 1 Axes>"
      ]
     },
     "metadata": {
      "needs_background": "light"
     },
     "output_type": "display_data"
    }
   ],
   "source": [
    "plt.imshow(reduced_outputs[117])"
   ]
  },
  {
   "cell_type": "markdown",
   "id": "586f99c0",
   "metadata": {},
   "source": [
    "# CSAM Model"
   ]
  },
  {
   "cell_type": "code",
   "execution_count": 4,
   "id": "c68326a0",
   "metadata": {},
   "outputs": [
    {
     "name": "stdout",
     "output_type": "stream",
     "text": [
      "=> merge config from configs/csam_tiny_patch4_window7_224_cifar.yaml\n"
     ]
    }
   ],
   "source": [
    "config_path = 'configs/csam_tiny_patch4_window7_224_cifar.yaml'\n",
    "output_path = '/srv/share4/gstoica3/checkpoints/swin_csam1Appr3_transformer_cifar'\n",
    "tag = 'filter_size_3'\n",
    "_, config = parse_option(config_path, output_path, tag)"
   ]
  },
  {
   "cell_type": "code",
   "execution_count": 5,
   "id": "43779956",
   "metadata": {},
   "outputs": [],
   "source": [
    "seed = config.SEED\n",
    "torch.manual_seed(seed)\n",
    "torch.cuda.manual_seed(seed)\n",
    "np.random.seed(seed)\n",
    "random.seed(seed)\n",
    "cudnn.benchmark = True"
   ]
  },
  {
   "cell_type": "code",
   "execution_count": 6,
   "id": "0af3f5cd",
   "metadata": {},
   "outputs": [],
   "source": [
    "config.defrost()\n",
    "config.TRAIN.BASE_LR = .000001\n",
    "config.TRAIN.WARMUP_LR = .000001\n",
    "config.TRAIN.MIN_LR = .000001\n",
    "config.DATA.DATA_PATH = '/nethome/gstoica3/research/pytorch-cifar100/data/cifar-100-python'\n",
    "config.freeze()"
   ]
  },
  {
   "cell_type": "code",
   "execution_count": 7,
   "id": "b4b4abfa",
   "metadata": {},
   "outputs": [
    {
     "name": "stdout",
     "output_type": "stream",
     "text": [
      "Files already downloaded and verified\n",
      "Files already downloaded and verified\n"
     ]
    },
    {
     "name": "stderr",
     "output_type": "stream",
     "text": [
      "/srv/share/gstoica3/miniconda3/envs/cifar/lib/python3.7/site-packages/torch/utils/data/dataloader.py:481: UserWarning: This DataLoader will create 8 worker processes in total. Our suggested max number of worker in current system is 6, which is smaller than what this DataLoader is going to create. Please be aware that excessive worker creation might get DataLoader running slow or even freeze, lower the worker number to avoid potential slowness/freeze if necessary.\n",
      "  cpuset_checked))\n"
     ]
    }
   ],
   "source": [
    "dataset_val, data_loader_val, mixup_fn = build_val_loader(config)"
   ]
  },
  {
   "cell_type": "code",
   "execution_count": 8,
   "id": "6dcff2aa",
   "metadata": {},
   "outputs": [
    {
     "name": "stderr",
     "output_type": "stream",
     "text": [
      "/srv/share/gstoica3/miniconda3/envs/cifar/lib/python3.7/site-packages/torch/functional.py:445: UserWarning: torch.meshgrid: in an upcoming release, it will be required to pass the indexing argument. (Triggered internally at  ../aten/src/ATen/native/TensorShape.cpp:2157.)\n",
      "  return _VF.meshgrid(tensors, **kwargs)  # type: ignore[attr-defined]\n"
     ]
    },
    {
     "name": "stdout",
     "output_type": "stream",
     "text": [
      "ADDING CSAM!!!!\n"
     ]
    }
   ],
   "source": [
    "csam_model = build_model(config)"
   ]
  },
  {
   "cell_type": "code",
   "execution_count": 21,
   "id": "252a4509",
   "metadata": {},
   "outputs": [],
   "source": [
    "csam_model.cuda()\n",
    "# csam_resume_file = auto_resume_helper(config.OUTPUT)\n",
    "csam_resume_file = '/srv/share4/gstoica3/checkpoints/swin_csam1Appr3_transformer_cifar/csam_tiny_patch4_window7_224_cifar/filter_size_3/ckpt_epoch_291.pth'\n",
    "config.defrost()\n",
    "config.MODEL.PRETRAINED = csam_resume_file\n",
    "config.freeze()\n",
    "load_pretrained(config, csam_model)"
   ]
  },
  {
   "cell_type": "code",
   "execution_count": 22,
   "id": "ec360a38",
   "metadata": {
    "scrolled": true
   },
   "outputs": [
    {
     "name": "stdout",
     "output_type": "stream",
     "text": [
      "Test: [0/79]\tTime 1.128 (1.128)\tLoss 0.7629 (0.7629)\tAcc@1 75.000 (75.000)\tAcc@5 100.000 (100.000)\tMem 835MB\n",
      "Test: [0/79]\tTime 0.107 (0.618)\tLoss 0.6961 (0.7295)\tAcc@1 84.375 (79.688)\tAcc@5 93.750 (96.875)\tMem 835MB\n",
      "Test: [0/79]\tTime 0.083 (0.440)\tLoss 1.0143 (0.8244)\tAcc@1 75.000 (78.125)\tAcc@5 96.875 (96.875)\tMem 835MB\n",
      "Test: [0/79]\tTime 0.081 (0.350)\tLoss 0.6571 (0.7826)\tAcc@1 87.500 (80.469)\tAcc@5 100.000 (97.656)\tMem 835MB\n",
      "Test: [10/79]\tTime 0.055 (0.082)\tLoss 0.8248 (0.8883)\tAcc@1 75.000 (79.116)\tAcc@5 96.875 (95.122)\tMem 835MB\n",
      "Test: [10/79]\tTime 0.051 (0.081)\tLoss 1.2379 (0.8967)\tAcc@1 75.000 (79.018)\tAcc@5 84.375 (94.866)\tMem 835MB\n",
      "Test: [10/79]\tTime 0.051 (0.081)\tLoss 0.8682 (0.8960)\tAcc@1 75.000 (78.924)\tAcc@5 93.750 (94.840)\tMem 835MB\n",
      "Test: [10/79]\tTime 0.056 (0.080)\tLoss 0.9907 (0.8981)\tAcc@1 71.875 (78.764)\tAcc@5 96.875 (94.886)\tMem 835MB\n",
      "Test: [20/79]\tTime 0.055 (0.067)\tLoss 0.7432 (0.8830)\tAcc@1 84.375 (78.974)\tAcc@5 96.875 (94.946)\tMem 835MB\n",
      "Test: [20/79]\tTime 0.051 (0.067)\tLoss 1.3363 (0.8885)\tAcc@1 65.625 (78.811)\tAcc@5 87.500 (94.855)\tMem 835MB\n",
      "Test: [20/79]\tTime 0.051 (0.067)\tLoss 0.8869 (0.8885)\tAcc@1 78.125 (78.803)\tAcc@5 96.875 (94.880)\tMem 835MB\n",
      "Test: [20/79]\tTime 0.051 (0.067)\tLoss 0.8646 (0.8882)\tAcc@1 78.125 (78.795)\tAcc@5 96.875 (94.903)\tMem 835MB\n",
      "Test: [30/79]\tTime 0.054 (0.062)\tLoss 1.1255 (0.8937)\tAcc@1 75.000 (78.228)\tAcc@5 96.875 (94.964)\tMem 835MB\n",
      "Test: [30/79]\tTime 0.050 (0.062)\tLoss 0.9248 (0.8940)\tAcc@1 78.125 (78.227)\tAcc@5 100.000 (95.005)\tMem 835MB\n",
      "Test: [30/79]\tTime 0.050 (0.062)\tLoss 0.7573 (0.8929)\tAcc@1 81.250 (78.252)\tAcc@5 96.875 (95.020)\tMem 835MB\n",
      "Test: [30/79]\tTime 0.051 (0.062)\tLoss 0.6085 (0.8906)\tAcc@1 87.500 (78.327)\tAcc@5 96.875 (95.035)\tMem 835MB\n",
      "Test: [40/79]\tTime 0.055 (0.059)\tLoss 0.6335 (0.8858)\tAcc@1 84.375 (78.630)\tAcc@5 100.000 (95.186)\tMem 835MB\n",
      "Test: [40/79]\tTime 0.051 (0.059)\tLoss 0.9587 (0.8862)\tAcc@1 75.000 (78.607)\tAcc@5 93.750 (95.177)\tMem 835MB\n",
      "Test: [40/79]\tTime 0.052 (0.059)\tLoss 0.8996 (0.8863)\tAcc@1 78.125 (78.604)\tAcc@5 96.875 (95.188)\tMem 835MB\n",
      "Test: [40/79]\tTime 0.056 (0.059)\tLoss 0.5763 (0.8844)\tAcc@1 84.375 (78.639)\tAcc@5 100.000 (95.217)\tMem 835MB\n",
      "Test: [50/79]\tTime 0.054 (0.058)\tLoss 0.5299 (0.8799)\tAcc@1 93.750 (78.918)\tAcc@5 100.000 (95.289)\tMem 835MB\n",
      "Test: [50/79]\tTime 0.051 (0.058)\tLoss 0.5477 (0.8783)\tAcc@1 90.625 (78.976)\tAcc@5 100.000 (95.312)\tMem 835MB\n",
      "Test: [50/79]\tTime 0.051 (0.058)\tLoss 1.2054 (0.8799)\tAcc@1 71.875 (78.941)\tAcc@5 90.625 (95.289)\tMem 835MB\n",
      "Test: [50/79]\tTime 0.052 (0.058)\tLoss 1.3412 (0.8821)\tAcc@1 68.750 (78.891)\tAcc@5 90.625 (95.267)\tMem 835MB\n",
      "Test: [60/79]\tTime 0.055 (0.057)\tLoss 0.7652 (0.8780)\tAcc@1 81.250 (78.760)\tAcc@5 100.000 (95.319)\tMem 835MB\n",
      "Test: [60/79]\tTime 0.051 (0.057)\tLoss 1.0682 (0.8788)\tAcc@1 78.125 (78.758)\tAcc@5 93.750 (95.312)\tMem 835MB\n",
      "Test: [60/79]\tTime 0.051 (0.057)\tLoss 1.1874 (0.8801)\tAcc@1 71.875 (78.729)\tAcc@5 90.625 (95.293)\tMem 835MB\n",
      "Test: [60/79]\tTime 0.052 (0.057)\tLoss 1.1528 (0.8812)\tAcc@1 71.875 (78.701)\tAcc@5 93.750 (95.287)\tMem 835MB\n",
      "Test: [70/79]\tTime 0.053 (0.056)\tLoss 0.8856 (0.8703)\tAcc@1 81.250 (79.015)\tAcc@5 90.625 (95.418)\tMem 835MB\n",
      "Test: [70/79]\tTime 0.050 (0.056)\tLoss 1.3129 (0.8718)\tAcc@1 62.500 (78.956)\tAcc@5 93.750 (95.412)\tMem 835MB\n",
      "Test: [70/79]\tTime 0.050 (0.056)\tLoss 0.8173 (0.8716)\tAcc@1 78.125 (78.953)\tAcc@5 96.875 (95.417)\tMem 835MB\n",
      "Test: [70/79]\tTime 0.051 (0.056)\tLoss 0.8809 (0.8717)\tAcc@1 84.375 (78.972)\tAcc@5 100.000 (95.434)\tMem 835MB\n",
      " * Acc@1 79.010 Acc@5 95.430\n"
     ]
    }
   ],
   "source": [
    "csam_acc1, csam_acc5, csam_loss = validate(config, data_loader_val, csam_model, accumulation_steps=4)"
   ]
  },
  {
   "cell_type": "code",
   "execution_count": 13,
   "id": "346ed325",
   "metadata": {},
   "outputs": [],
   "source": [
    "for idx, (images, target) in enumerate(data_loader_val):\n",
    "    images = images.cuda(non_blocking=True)\n",
    "    target = target.cuda(non_blocking=True)\n",
    "    break"
   ]
  },
  {
   "cell_type": "code",
   "execution_count": null,
   "id": "ae305025",
   "metadata": {},
   "outputs": [],
   "source": [
    "def get_csam_module(model, images, extract_loc):\n",
    "    patched_images = model.patch_embed(images)\n",
    "    if model.ape:\n",
    "        patched_images += model.absolute_pos_embed\n",
    "    x = model.pos_drop(patched_images)\n",
    "    for idx, layer in enumerate(model.layers):\n",
    "        if idx == extract_loc:\n",
    "            break\n",
    "    return layer, x\n",
    "\n",
    "\n",
    "def get_module_representation(self, batch):\n",
    "    valid_elements = (1 - self.padding_mask)\n",
    "    X = self.maybe_add_positional_encodings(batch)                                                                  # [B,H,W,E]\n",
    "    batch_size, H, W, _ = X.shape\n",
    "    X = X.view(-1, H * W, X.shape[-1])                                                                              # [B,HW,E]\n",
    "    values = self.global_transform(X)                                                                               # [B,HW,C]\n",
    "\n",
    "    X_normed = F.normalize(X, dim=-1)                                                                               # [B,HW,C]\n",
    "    if self.approach_args.SIMILARITY_METRIC == 'cosine_similarity':\n",
    "        scores = torch.bmm(X_normed, X_normed.transpose(2, 1))                                                      # [B,HW,HW]\n",
    "    elif self.approach_args.SIMILARITY_METRIC == 'dot_product':\n",
    "        scores = torch.bmm(X, X.transpose(2, 1))                                                                    # [B,HW,HW]\n",
    "    attn = self.masked_softmax(                                                                                     # [B,HW,HW]\n",
    "        scores, \n",
    "        mask=valid_elements.flatten().unsqueeze(0).unsqueeze(0),                                                    # Mask out padding indices [1, 1, HW]\n",
    "        dim=-1, epsilon=1e-5 \n",
    "    )                                                                                                               # [B,HW,HW]\n",
    "\n",
    "    filter_vecs = torch.bmm(attn, values)                                                                           # [B,HW,C]\n",
    "    filter_vals = (filter_vecs * X).sum(-1, keepdim=True)                                                           # [B,HW,C] x [B,HW,C] -> [B,HW,1]\n",
    "    # weighted_X = self.forget_gate_nonlinearity(filter_vals) * X                                                   # [B,HW,C] x [B,HW,1] -> [B,HW,C]\n",
    "    # output = torch.matmul(weighted_X.transpose(2, 1), local_mask).transpose(2, 1)                                 # [B,C,HW] x [HW,Nc] -> [B,C,Nc]\n",
    "    output = self.forget_gate_nonlinearity(filter_raw=filter_vals, pooling_features=X)\n",
    "    return filter_vals, attn\n",
    "\n",
    "def extract_module_components(module, inputs):\n",
    "    \n",
    "    filter_values, attention_matrix = get_module_representation(self=module, batch=inputs)\n",
    "    \n",
    "\n",
    "def obtain_csam_features(model, images, extract_loc):\n",
    "    patched_images = model.patch_embed(images)\n",
    "    if model.ape:\n",
    "        patched_images += model.absolute_pos_embed\n",
    "    x = model.pos_drop(patched_images)\n",
    "    for idx, layer in enumerate(model.layers):\n",
    "        if idx == extract_loc:\n",
    "            break\n",
    "        x = layer(x)\n",
    "    output_features = layer(x)\n",
    "    input_features = x\n",
    "    filter_computation\n",
    "    return {\n",
    "        'input_features': x,\n",
    "        'output_features': layer(x)\n",
    "    }"
   ]
  },
  {
   "cell_type": "code",
   "execution_count": 22,
   "id": "c6e981a0",
   "metadata": {},
   "outputs": [],
   "source": [
    "features = obtain_baseline_model_features(model, images, 0)"
   ]
  },
  {
   "cell_type": "code",
   "execution_count": 24,
   "id": "5327fa12",
   "metadata": {},
   "outputs": [
    {
     "data": {
      "text/plain": [
       "(torch.Size([128, 3136, 96]), torch.Size([128, 784, 192]))"
      ]
     },
     "execution_count": 24,
     "metadata": {},
     "output_type": "execute_result"
    }
   ],
   "source": [
    "features['input_features'].shape, features['output_features'].shape"
   ]
  },
  {
   "cell_type": "code",
   "execution_count": 25,
   "id": "37802bcb",
   "metadata": {},
   "outputs": [],
   "source": [
    "from sklearn.decomposition import PCA"
   ]
  },
  {
   "cell_type": "code",
   "execution_count": 26,
   "id": "3368736f",
   "metadata": {},
   "outputs": [],
   "source": [
    "input_PCA = PCA(n_components=3)\n",
    "output_PCA = PCA(n_components=3)"
   ]
  },
  {
   "cell_type": "code",
   "execution_count": 30,
   "id": "ccce0073",
   "metadata": {},
   "outputs": [
    {
     "data": {
      "text/plain": [
       "PCA(n_components=3)"
      ]
     },
     "execution_count": 30,
     "metadata": {},
     "output_type": "execute_result"
    }
   ],
   "source": [
    "input_PCA.fit(features['input_features'].detach().cpu().numpy().reshape(-1, 96))\n",
    "output_PCA.fit(features['output_features'].detach().cpu().numpy().reshape(-1, 192))"
   ]
  },
  {
   "cell_type": "code",
   "execution_count": 31,
   "id": "4f599960",
   "metadata": {},
   "outputs": [],
   "source": [
    "flattened_inputs = features['input_features'].detach().cpu().numpy().reshape(-1, 96)\n",
    "flattened_outputs = features['output_features'].detach().cpu().numpy().reshape(-1, 192)"
   ]
  },
  {
   "cell_type": "code",
   "execution_count": 39,
   "id": "d65eb9e2",
   "metadata": {},
   "outputs": [],
   "source": [
    "reduced_inputs = input_PCA.transform(flattened_inputs).reshape(128, 3136, 3).reshape(128, 56, 56, 3)\n",
    "reduced_outputs = output_PCA.transform(flattened_outputs).reshape(128, 784, 3).reshape(128, 28, 28, 3)"
   ]
  },
  {
   "cell_type": "code",
   "execution_count": null,
   "id": "1b6b9cc8",
   "metadata": {},
   "outputs": [],
   "source": [
    "import matplotlib.pyplot as plt"
   ]
  },
  {
   "cell_type": "code",
   "execution_count": 49,
   "id": "5ac64854",
   "metadata": {},
   "outputs": [
    {
     "name": "stderr",
     "output_type": "stream",
     "text": [
      "Clipping input data to the valid range for imshow with RGB data ([0..1] for floats or [0..255] for integers).\n"
     ]
    },
    {
     "data": {
      "text/plain": [
       "<matplotlib.image.AxesImage at 0x7f667d3ba110>"
      ]
     },
     "execution_count": 49,
     "metadata": {},
     "output_type": "execute_result"
    },
    {
     "data": {
      "image/png": "[encoded data removed]",
      "text/plain": [
       "<Figure size 432x288 with 1 Axes>"
      ]
     },
     "metadata": {
      "needs_background": "light"
     },
     "output_type": "display_data"
    }
   ],
   "source": [
    "plt.imshow(images[117].permute(1, 2, 0).detach().cpu().numpy())"
   ]
  },
  {
   "cell_type": "code",
   "execution_count": 20,
   "id": "c8ae87c9",
   "metadata": {},
   "outputs": [],
   "source": [
    "# csam_model.layers"
   ]
  },
  {
   "cell_type": "code",
   "execution_count": 19,
   "id": "6c257726",
   "metadata": {},
   "outputs": [
    {
     "data": {
      "text/plain": [
       "ConvolutionalSelfAttention(\n",
       "  (input_padder): ConstantPad2d(padding=(1, 1, 1, 1), value=0.0)\n",
       "  (upsampler): Identity()\n",
       "  (global_transform): Linear(in_features=192, out_features=192, bias=True)\n",
       ")"
      ]
     },
     "execution_count": 19,
     "metadata": {},
     "output_type": "execute_result"
    }
   ],
   "source": [
    "csam_model.layers[1]"
   ]
  },
  {
   "cell_type": "code",
   "execution_count": null,
   "id": "93940b38",
   "metadata": {},
   "outputs": [],
   "source": []
  },
  {
   "cell_type": "code",
   "execution_count": null,
   "id": "387d1aab",
   "metadata": {},
   "outputs": [],
   "source": []
  },
  {
   "cell_type": "code",
   "execution_count": null,
   "id": "9f20248b",
   "metadata": {},
   "outputs": [],
   "source": []
  },
  {
   "cell_type": "markdown",
   "id": "af41bd42",
   "metadata": {},
   "source": [
    "# Experiment Results Plots"
   ]
  },
  {
   "cell_type": "code",
   "execution_count": 14,
   "id": "8b6a5d29",
   "metadata": {},
   "outputs": [],
   "source": [
    "csam_swin_filter5 = [77.02, 77.17, 77.17, 73.05]\n",
    "csam_swin_filter3 = [78.12, 78.82, 24.59, 14.61]\n",
    "baseline = [77.58] * 4"
   ]
  },
  {
   "cell_type": "code",
   "execution_count": 19,
   "id": "e0838e0d",
   "metadata": {},
   "outputs": [
    {
     "data": {
      "image/png": "[encoded data removed]",
      "text/plain": [
       "<Figure size 432x288 with 1 Axes>"
      ]
     },
     "metadata": {
      "needs_background": "light"
     },
     "output_type": "display_data"
    }
   ],
   "source": [
    "plt.plot(csam_swin_filter5, label=\"Filter size 5\")\n",
    "plt.plot(csam_swin_filter3, label=\"Filter size 3\")\n",
    "plt.plot(baseline, label=\"Baseline\")\n",
    "plt.title(\"Top1 vs Injection Layer CIFAR100\")\n",
    "plt.xlabel(\"Injection Layer\")\n",
    "plt.ylabel(\"Top1\")\n",
    "plt.legend()\n",
    "plt.show()"
   ]
  },
  {
   "cell_type": "code",
   "execution_count": null,
   "id": "04526463",
   "metadata": {},
   "outputs": [],
   "source": []
  }
 ],
 "metadata": {
  "kernelspec": {
   "display_name": "Python 3",
   "language": "python",
   "name": "python3"
  },
  "language_info": {
   "codemirror_mode": {
    "name": "ipython",
    "version": 3
   },
   "file_extension": ".py",
   "mimetype": "text/x-python",
   "name": "python",
   "nbconvert_exporter": "python",
   "pygments_lexer": "ipython3",
   "version": "3.7.11"
  }
 },
 "nbformat": 4,
 "nbformat_minor": 5
}
